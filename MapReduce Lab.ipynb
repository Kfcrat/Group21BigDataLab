{
 "cells": [
  {
   "cell_type": "markdown",
   "id": "3a4e9346",
   "metadata": {
    "deletable": false,
    "editable": false,
    "nbgrader": {
     "cell_type": "markdown",
     "checksum": "8369c6f907c65859e613c692e62e369e",
     "grade": false,
     "grade_id": "cell-ada3b9617f709a43",
     "locked": true,
     "schema_version": 3,
     "solution": false,
     "task": false
    }
   },
   "source": [
    "# MapReduce Lab\n",
    "\n",
    "## Lab assignment: Exercises with MapReduce "
   ]
  },
  {
   "cell_type": "markdown",
   "id": "d7311d2c",
   "metadata": {
    "deletable": false,
    "editable": false,
    "nbgrader": {
     "cell_type": "markdown",
     "checksum": "3510b78bc8f65879ebcb3e4e6b1fbac2",
     "grade": false,
     "grade_id": "cell-443023c57689717b",
     "locked": true,
     "schema_version": 3,
     "solution": false,
     "task": false
    }
   },
   "source": [
    "This first lab is all about the MapReduce paradigm. You have four different exercises that you have to resolve using MapReduce at a conceptual level. In particular, you are asked to define how the `map` and `reduce` functions should be implemented to parallelise the different tasks. You need to fill in the markdown boxes that say ''YOUR ANSWER HERE'' below to produce the expected output. For each exercise, you have to include a **brief explanation** and a **drawing** of your MapReduce solution. \n",
    "\n",
    "For the drawings, you should use a similar style to what we did in the lecture for the Word Count example:\n",
    "\n",
    "![](img/wordcount.jpg \"\")\n",
    "\n",
    "You can just draw the figures by hand and take a picture with your phone. You can include a picture in the markdown (it needs to be a Text cell!) using `![](name.jpg)`.\n",
    "\n",
    "It is important that you describe well how the `map` and `reduce` functions will work. For the Word Count example, (1) the `map` sends out every word as the output key, and gives a '1' to the output value to count that word; (2) the `reduce` simply reduces the list of 1s by adding up their elements: `lambda x, y: x+y`, with the reduction processing happening in pairs of two elements."
   ]
  },
  {
   "cell_type": "markdown",
   "id": "207c4660",
   "metadata": {
    "deletable": false,
    "editable": false,
    "nbgrader": {
     "cell_type": "markdown",
     "checksum": "c63c65f82f79e6ada485e3db5a8bc2dd",
     "grade": false,
     "grade_id": "cell-011851b0bbb39960",
     "locked": true,
     "schema_version": 3,
     "solution": false,
     "task": false
    }
   },
   "source": [
    "## Submission and marking criteria\n",
    "\n",
    "You should complete this notebook and add your solutions to it. When you are done, create a single .zip file, called `ex01.zip` that contains your completed notebook (ex01.ipynb) and all the images to your solutions. \n",
    "\n",
    "Important notes:\n",
    "- The **group leader** must submit the `ex01.zip` file on Moodle.\n",
    "- **Each member of the group** must complete the peer review survey and their contribution statement using this [link](https://forms.office.com/e/WP6HZr9q8y). **You can only submit this survey ONCE**.\n",
    "- This lab is marked out of 100 marks, and each exercise is worth 25 marks.\n",
    "- The marking will be focused on:\n",
    "    - Clarity of the diagrams and explanations; they should follow the same style used in the lectures. \n",
    "    - The explanations demonstrate that you understand well the concept of MapReduce.\n",
    "    - Efficiency of the solution.\n",
    "- **Submission deadline: 18th February 2023 at 5pm**"
   ]
  },
  {
   "cell_type": "markdown",
   "id": "467ce0de",
   "metadata": {
    "deletable": false,
    "editable": false,
    "nbgrader": {
     "cell_type": "markdown",
     "checksum": "961fb35830b4b36d2df65478cd9611fd",
     "grade": false,
     "grade_id": "cell-df369032c448a450",
     "locked": true,
     "schema_version": 3,
     "solution": false,
     "task": false
    }
   },
   "source": [
    "## Exercise 1. Provide a histogram of word repetitions\n",
    "\n",
    "You are asked to design the map and reduce functions to provide a histogram of word repetitions in one or multiple text documents. That is, the number of words that are repeated once, the number of words that are repeated twice, the number of words that are repeated three times, etc.\n",
    "\n",
    "**Input**: A document or multiple documents, containing plain text. You can assume that each line (or document) is given a random ID that will be used as input key for the map phase, and the input values are the lines of text or entire documents. So the input may look like this:\n",
    "\n",
    "    (1, Welcome to the World)\n",
    "    (2, of Big Big Data)\n",
    "    (3, Welcome World Bye)\n",
    "\n",
    "**Output**: Your output should say how many words repeat 1, 2, etc. times, where the number of times is given as output key, and the total number of words repetitions as the value (i.e. `(number of repetitions, number of words)`). Thus, for the above input, the output should be as follows:\n",
    "\n",
    "    (1 time - 5 words)\n",
    "    (2 times - 3 words)\n",
    "\n",
    "**Hint**: You can concatenate as many MapReduce processes as you like, so for example you could first apply the solution for the Word Count and take that as input for the a second stage.\n",
    "\n",
    "                                                                                                       [25 marks]"
   ]
  },
  {
   "cell_type": "markdown",
   "id": "c12f6649",
   "metadata": {
    "deletable": false,
    "editable": false,
    "nbgrader": {
     "cell_type": "markdown",
     "checksum": "2a63f61efbafd4aef3801fc963bd37f3",
     "grade": false,
     "grade_id": "cell-0c96b3a28f398c20",
     "locked": true,
     "schema_version": 3,
     "solution": false,
     "task": false
    }
   },
   "source": [
    "![](img/ex01.jpg \"\")"
   ]
  },
  {
   "cell_type": "markdown",
   "id": "eb614191",
   "metadata": {
    "deletable": false,
    "nbgrader": {
     "cell_type": "markdown",
     "checksum": "c6bbe660a972f08f9b15caf2ece8c9ae",
     "grade": true,
     "grade_id": "cell-167c807576116dad",
     "locked": false,
     "points": 0,
     "schema_version": 3,
     "solution": true,
     "task": false
    }
   },
   "source": [
    "The map phase should do this..\n",
    "\n",
    "the reduce...\n",
    "\n",
    "\n",
    "put your image here.\n"
   ]
  },
  {
   "cell_type": "markdown",
   "id": "bdf808fd",
   "metadata": {
    "deletable": false,
    "editable": false,
    "nbgrader": {
     "cell_type": "markdown",
     "checksum": "0db0765b80bb7a9b0792a4472f3ed69d",
     "grade": false,
     "grade_id": "cell-cd52e5600e50df5e",
     "locked": true,
     "schema_version": 3,
     "solution": false,
     "task": false
    }
   },
   "source": [
    "## Exercise 2. Provide a histogram of the length of the words. \n",
    "\n",
    "\n",
    "You are asked to design the map and reduce functions to provide a histogram of the length of the words in one or multiple text documents. Word repetition is not a problem, so if you have the word 'bye' twice in your document, you would add 2 to the number of words of length 3.\n",
    "\n",
    "**Input**: Same as the previous exercise. So the input may look like this:\n",
    "\n",
    "    (1, Welcome to the World)\n",
    "    (2, of Big Big Data)\n",
    "    (3, Welcome World Bye)\n",
    "    \n",
    "**Output**: Your output should say how many words have a given length, where the length is given as output key, and the total number of words with such length is provided as the value (i.e. `(length, number of words)`). Thus, for the above input, the output should be as follows:\n",
    "\n",
    "    (2,2)\n",
    "    (3,4)\n",
    "    (4,1)\n",
    "    (5,2)\n",
    "    (7,2)\n",
    "\n",
    "**Additional Challenge**: How would you avoid word repetition? **[not assessed]**\n",
    "\n",
    "                                                                                                       [25 marks]"
   ]
  },
  {
   "cell_type": "markdown",
   "id": "0e899461",
   "metadata": {
    "deletable": false,
    "editable": false,
    "nbgrader": {
     "cell_type": "markdown",
     "checksum": "1297cd1a7b43747f4353321b46687aaf",
     "grade": false,
     "grade_id": "cell-68c66a96ca52d2b1",
     "locked": true,
     "schema_version": 3,
     "solution": false,
     "task": false
    }
   },
   "source": [
    "![](img/ex02.jpg \"\")"
   ]
  },
  {
   "cell_type": "markdown",
   "id": "f9cb7dc5",
   "metadata": {
    "deletable": false,
    "nbgrader": {
     "cell_type": "markdown",
     "checksum": "f9d462e1aeea2529c0e2d6792b0d6263",
     "grade": true,
     "grade_id": "cell-2cd22aa37ae7a897",
     "locked": false,
     "points": 0,
     "schema_version": 3,
     "solution": true,
     "task": false
    }
   },
   "source": [
    "YOUR ANSWER HERE"
   ]
  },
  {
   "cell_type": "markdown",
   "id": "dd7a9351",
   "metadata": {
    "deletable": false,
    "editable": false,
    "nbgrader": {
     "cell_type": "markdown",
     "checksum": "e707b3c1eb87af32342543762376440d",
     "grade": false,
     "grade_id": "cell-dce4d9141bf99691",
     "locked": true,
     "schema_version": 3,
     "solution": false,
     "task": false
    }
   },
   "source": [
    "## Exercise 3. Average length of the words in a document. \n",
    "\n",
    "You are asked to design the map and reduce functions to provide the average length of the words in one or multiple text documents. \n",
    "\n",
    "**Input**: Same as the previous exercise. So the input may look like this:\n",
    "\n",
    "    (1, Welcome to the World)\n",
    "    (2, of Big Big Data)\n",
    "    (3, Welcome World Bye)\n",
    "\n",
    "**Output**: Your output should provide the average length of the words in the input. We need to provide a single output, but as we are working on a conceptual level, it is okay to provide an output which would allow you to compute the average easily, e.g. something like `(<total word length>, <total number of words>)` would allow to compute the average easily.\n",
    "\n",
    "**Hints**: We want a single result! that should tell you something about how to do the map function. Also, the values emitted by a Map function are not limited to Integers/float, etc, they could be other data structures.\n",
    "\n",
    "**Note**: Remember the reduce function must be commutative and associative!\n",
    "\n",
    "We would like you to try two different alternatives:\n",
    "\n",
    "- **Option 1**: Use directly the text document(s).\n",
    "\n",
    "                                                                                                       [15 marks]\n",
    "                                                                                        \n",
    "- **Option 2**: Use the output of the previous exercise as input.\n",
    "\n",
    "                                                                                                       [10 marks]                                                                                                    "
   ]
  },
  {
   "cell_type": "markdown",
   "id": "c16ad036",
   "metadata": {
    "deletable": false,
    "editable": false,
    "nbgrader": {
     "cell_type": "markdown",
     "checksum": "137c06d032ede84f6f7c7671cf8434c5",
     "grade": false,
     "grade_id": "cell-504a8100e24e1de1",
     "locked": true,
     "schema_version": 3,
     "solution": false,
     "task": false
    }
   },
   "source": [
    "\n",
    "![](img/ex03.jpg \"\")"
   ]
  },
  {
   "cell_type": "markdown",
   "id": "20b99dec",
   "metadata": {
    "deletable": false,
    "editable": false,
    "nbgrader": {
     "cell_type": "markdown",
     "checksum": "b5f524c80cf9db5ad58bec73d0353ed2",
     "grade": false,
     "grade_id": "cell-adeb984d38be96a6",
     "locked": true,
     "schema_version": 3,
     "solution": false,
     "task": false
    }
   },
   "source": [
    "### Option 1:"
   ]
  },
  {
   "cell_type": "markdown",
   "id": "5e8cef51",
   "metadata": {
    "deletable": false,
    "nbgrader": {
     "cell_type": "markdown",
     "checksum": "449ea77438854b9bdc5d3efbd1c631fc",
     "grade": true,
     "grade_id": "cell-0f745229ee9683c4",
     "locked": false,
     "points": 0,
     "schema_version": 3,
     "solution": true,
     "task": false
    }
   },
   "source": [
    "YOUR ANSWER HERE"
   ]
  },
  {
   "cell_type": "markdown",
   "id": "44ab415b",
   "metadata": {
    "deletable": false,
    "editable": false,
    "nbgrader": {
     "cell_type": "markdown",
     "checksum": "9aa1dcaaaf5454c51524a85a2d9363db",
     "grade": false,
     "grade_id": "cell-70475874fe5f10a4",
     "locked": true,
     "schema_version": 3,
     "solution": false,
     "task": false
    }
   },
   "source": [
    "### Option 2:"
   ]
  },
  {
   "cell_type": "markdown",
   "id": "64d4749d",
   "metadata": {
    "deletable": false,
    "nbgrader": {
     "cell_type": "markdown",
     "checksum": "fc478dc936053ff1468a573b409c9b4d",
     "grade": true,
     "grade_id": "cell-f565f0c3f1a13e38",
     "locked": false,
     "points": 0,
     "schema_version": 3,
     "solution": true,
     "task": false
    }
   },
   "source": [
    "YOUR ANSWER HERE"
   ]
  },
  {
   "cell_type": "markdown",
   "id": "e2b85df4",
   "metadata": {
    "deletable": false,
    "editable": false,
    "nbgrader": {
     "cell_type": "markdown",
     "checksum": "779403dffb6a88c9011e432f588b06a1",
     "grade": false,
     "grade_id": "cell-f027b43676df82fd",
     "locked": true,
     "schema_version": 3,
     "solution": false,
     "task": false
    }
   },
   "source": [
    "## Exercise 4. Find a list of common friends *between pairs of friends*.\n",
    "\n",
    "Obtain a list of common friends for each pair of friends. That is, for each two people that are friends (assuming friendship is bi-directional), you need to find the friends in common.\n",
    "\n",
    "You are asked to design the map and reduce functions that read a file that contains a list of friends for each person. Using map and reduce functions you should find for each pair of friends, the list of common friends.\n",
    "\n",
    "**Input**: A file with the following format: Person -> List of friends. \n",
    "\n",
    "```\n",
    "Isaac -> Mikel John Lucy\n",
    "Mikel -> Isaac John Lucy Claudia\n",
    "John -> Isaac Mikel Lucy Claudia\n",
    "Lucy -> Isaac Mikel John Claudia\n",
    "Claudia -> Mikel John Lucy\n",
    "```\n",
    "\n",
    "**Output**: (pair of friends, list of common friends)\n",
    "```\n",
    "(Isaac, Mikel)    -> [John, Lucy]\n",
    "(Claudia, Mikel)  -> [John, Lucy]\n",
    "(John, Lucy)      -> [Claudia, Isaac, Mikel]\n",
    "(Isaac, John)     -> [Lucy, Mikel]\n",
    "(Isaac, Lucy)     -> [John, Mikel]\n",
    "(John, Mikel)     -> [Claudia, Isaac, Lucy]\n",
    "(Lucy, Mikel)     -> [Claudia, Isaac, John]\n",
    "(Claudia, John)   -> [Lucy, Mikel]\n",
    "(Claudia, Lucy)   -> [John, Mikel]\n",
    "\n",
    "```"
   ]
  },
  {
   "cell_type": "markdown",
   "id": "43a2bbc1",
   "metadata": {
    "deletable": false,
    "editable": false,
    "nbgrader": {
     "cell_type": "markdown",
     "checksum": "cba3bebea426ef03acf2032cc8aacec3",
     "grade": false,
     "grade_id": "cell-b8edc970baec64f2",
     "locked": true,
     "schema_version": 3,
     "solution": false,
     "task": false
    }
   },
   "source": [
    "![](img/ex04.jpg \"\")"
   ]
  },
  {
   "cell_type": "markdown",
   "id": "0668e44f",
   "metadata": {
    "deletable": false,
    "nbgrader": {
     "cell_type": "markdown",
     "checksum": "15b234f89fe1e79a5c29388b34573eff",
     "grade": true,
     "grade_id": "cell-341c70774a495753",
     "locked": false,
     "points": 0,
     "schema_version": 3,
     "solution": true,
     "task": false
    }
   },
   "source": [
    "YOUR ANSWER HERE"
   ]
  }
 ],
 "metadata": {
  "kernelspec": {
   "display_name": "Python 3 (ipykernel)",
   "language": "python",
   "name": "python3"
  },
  "language_info": {
   "codemirror_mode": {
    "name": "ipython",
    "version": 3
   },
   "file_extension": ".py",
   "mimetype": "text/x-python",
   "name": "python",
   "nbconvert_exporter": "python",
   "pygments_lexer": "ipython3",
   "version": "3.9.12"
  }
 },
 "nbformat": 4,
 "nbformat_minor": 5
}
