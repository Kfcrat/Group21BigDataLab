{
 "cells": [
  {
   "cell_type": "markdown",
   "id": "b778b5fd",
   "metadata": {},
   "source": [
    "# Sum of Input"
   ]
  },
  {
   "cell_type": "code",
   "execution_count": 1,
   "id": "9c0e22e9",
   "metadata": {},
   "outputs": [],
   "source": [
    "from functools import reduce"
   ]
  },
  {
   "cell_type": "code",
   "execution_count": 2,
   "id": "befc61ad",
   "metadata": {},
   "outputs": [],
   "source": [
    "def isPositive(n) :\n",
    "    return n > 0"
   ]
  },
  {
   "cell_type": "code",
   "execution_count": 3,
   "id": "44e542b7",
   "metadata": {},
   "outputs": [
    {
     "data": {
      "text/plain": [
       "[1, 2, 3, 4, 5]"
      ]
     },
     "execution_count": 3,
     "metadata": {},
     "output_type": "execute_result"
    }
   ],
   "source": [
    "List1 = [0,1,2,3,4,5,-1]\n",
    "list(filter(isPositive, List1))"
   ]
  },
  {
   "cell_type": "code",
   "execution_count": 4,
   "id": "b7d0640e",
   "metadata": {},
   "outputs": [
    {
     "data": {
      "text/plain": [
       "15"
      ]
     },
     "execution_count": 4,
     "metadata": {},
     "output_type": "execute_result"
    }
   ],
   "source": [
    "def sum(x,y):\n",
    "    out = x+y\n",
    "    return out\n",
    "\n",
    "reduce(sum, filter(isPositive, List1))"
   ]
  },
  {
   "cell_type": "markdown",
   "id": "eb2dde82",
   "metadata": {},
   "source": [
    "# Average of Input"
   ]
  },
  {
   "cell_type": "code",
   "execution_count": 5,
   "id": "bf6f5ae0",
   "metadata": {},
   "outputs": [
    {
     "ename": "SyntaxError",
     "evalue": "invalid syntax (3583612771.py, line 3)",
     "output_type": "error",
     "traceback": [
      "\u001b[1;36m  Cell \u001b[1;32mIn [5], line 3\u001b[1;36m\u001b[0m\n\u001b[1;33m    return x+y/\u001b[0m\n\u001b[1;37m               ^\u001b[0m\n\u001b[1;31mSyntaxError\u001b[0m\u001b[1;31m:\u001b[0m invalid syntax\n"
     ]
    }
   ],
   "source": [
    "counter = 0\n",
    "def avg(x):\n",
    "    "
   ]
  },
  {
   "cell_type": "code",
   "execution_count": 6,
   "id": "62b5a80b",
   "metadata": {},
   "outputs": [],
   "source": [
    "length = len(List1)"
   ]
  },
  {
   "cell_type": "code",
   "execution_count": 7,
   "id": "4f774de1",
   "metadata": {},
   "outputs": [
    {
     "data": {
      "text/plain": [
       "[0, 20]"
      ]
     },
     "execution_count": 7,
     "metadata": {},
     "output_type": "execute_result"
    }
   ],
   "source": [
    "list(map(lambda x:x*5,\\\n",
    "filter(lambda x:x%4==0,List1)))"
   ]
  }
 ],
 "metadata": {
  "kernelspec": {
   "display_name": "Python 3 (ipykernel)",
   "language": "python",
   "name": "python3"
  },
  "language_info": {
   "codemirror_mode": {
    "name": "ipython",
    "version": 3
   },
   "file_extension": ".py",
   "mimetype": "text/x-python",
   "name": "python",
   "nbconvert_exporter": "python",
   "pygments_lexer": "ipython3",
   "version": "3.9.12"
  }
 },
 "nbformat": 4,
 "nbformat_minor": 5
}
